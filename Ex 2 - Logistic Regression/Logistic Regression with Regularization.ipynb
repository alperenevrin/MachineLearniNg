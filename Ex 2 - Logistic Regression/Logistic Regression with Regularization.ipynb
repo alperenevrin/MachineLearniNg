{
 "cells": [
  {
   "cell_type": "markdown",
   "metadata": {},
   "source": [
    "In this part of the exercise, you will implement regularized logistic regression to predict whether microchips from a fabrication plant passes quality assurance (QA). During QA, each microchip goes through various tests to ensure it is functioning correctly.\n",
    "Suppose you are the product manager of the factory and you have the test results for some microchips on two different tests. From these two tests, you would like to determine whether the microchips should be accepted or rejected. To help you make the decision, you have a dataset of test results on past microchips, from which you can build a logistic regression model."
   ]
  },
  {
   "cell_type": "code",
   "execution_count": 1,
   "metadata": {},
   "outputs": [],
   "source": [
    "#import the libraries\n",
    "import numpy as np\n",
    "import pandas as pd\n",
    "import matplotlib.pyplot as plt\n",
    "%matplotlib inline"
   ]
  },
  {
   "cell_type": "code",
   "execution_count": 2,
   "metadata": {},
   "outputs": [
    {
     "name": "stdout",
     "output_type": "stream",
     "text": [
      "0.051267,0.69956,1\r\n",
      "-0.092742,0.68494,1\r\n",
      "-0.21371,0.69225,1\r\n",
      "-0.375,0.50219,1\r\n",
      "-0.51325,0.46564,1\r\n",
      "-0.52477,0.2098,1\r\n",
      "-0.39804,0.034357,1\r\n",
      "-0.30588,-0.19225,1\r\n",
      "0.016705,-0.40424,1\r\n",
      "0.13191,-0.51389,1\r\n"
     ]
    }
   ],
   "source": [
    "#Check out the data file\n",
    "!head ../data/ex2data2.txt"
   ]
  },
  {
   "cell_type": "code",
   "execution_count": 3,
   "metadata": {},
   "outputs": [
    {
     "data": {
      "text/html": [
       "<div>\n",
       "<style>\n",
       "    .dataframe thead tr:only-child th {\n",
       "        text-align: right;\n",
       "    }\n",
       "\n",
       "    .dataframe thead th {\n",
       "        text-align: left;\n",
       "    }\n",
       "\n",
       "    .dataframe tbody tr th {\n",
       "        vertical-align: top;\n",
       "    }\n",
       "</style>\n",
       "<table border=\"1\" class=\"dataframe\">\n",
       "  <thead>\n",
       "    <tr style=\"text-align: right;\">\n",
       "      <th></th>\n",
       "      <th>Test1</th>\n",
       "      <th>Test2</th>\n",
       "      <th>Pass</th>\n",
       "    </tr>\n",
       "  </thead>\n",
       "  <tbody>\n",
       "    <tr>\n",
       "      <th>0</th>\n",
       "      <td>0.051267</td>\n",
       "      <td>0.69956</td>\n",
       "      <td>1</td>\n",
       "    </tr>\n",
       "    <tr>\n",
       "      <th>1</th>\n",
       "      <td>-0.092742</td>\n",
       "      <td>0.68494</td>\n",
       "      <td>1</td>\n",
       "    </tr>\n",
       "    <tr>\n",
       "      <th>2</th>\n",
       "      <td>-0.213710</td>\n",
       "      <td>0.69225</td>\n",
       "      <td>1</td>\n",
       "    </tr>\n",
       "    <tr>\n",
       "      <th>3</th>\n",
       "      <td>-0.375000</td>\n",
       "      <td>0.50219</td>\n",
       "      <td>1</td>\n",
       "    </tr>\n",
       "    <tr>\n",
       "      <th>4</th>\n",
       "      <td>-0.513250</td>\n",
       "      <td>0.46564</td>\n",
       "      <td>1</td>\n",
       "    </tr>\n",
       "  </tbody>\n",
       "</table>\n",
       "</div>"
      ],
      "text/plain": [
       "      Test1    Test2  Pass\n",
       "0  0.051267  0.69956     1\n",
       "1 -0.092742  0.68494     1\n",
       "2 -0.213710  0.69225     1\n",
       "3 -0.375000  0.50219     1\n",
       "4 -0.513250  0.46564     1"
      ]
     },
     "execution_count": 3,
     "metadata": {},
     "output_type": "execute_result"
    }
   ],
   "source": [
    "data = pd.read_csv('../data/ex2data2.txt', sep=',', header=None, names=['Test1', 'Test2', 'Pass'])\n",
    "data.head()"
   ]
  },
  {
   "cell_type": "code",
   "execution_count": 4,
   "metadata": {},
   "outputs": [
    {
     "data": {
      "text/html": [
       "<div>\n",
       "<style>\n",
       "    .dataframe thead tr:only-child th {\n",
       "        text-align: right;\n",
       "    }\n",
       "\n",
       "    .dataframe thead th {\n",
       "        text-align: left;\n",
       "    }\n",
       "\n",
       "    .dataframe tbody tr th {\n",
       "        vertical-align: top;\n",
       "    }\n",
       "</style>\n",
       "<table border=\"1\" class=\"dataframe\">\n",
       "  <thead>\n",
       "    <tr style=\"text-align: right;\">\n",
       "      <th></th>\n",
       "      <th>Test1</th>\n",
       "      <th>Test2</th>\n",
       "      <th>Pass</th>\n",
       "    </tr>\n",
       "  </thead>\n",
       "  <tbody>\n",
       "    <tr>\n",
       "      <th>count</th>\n",
       "      <td>118.000000</td>\n",
       "      <td>118.000000</td>\n",
       "      <td>118.000000</td>\n",
       "    </tr>\n",
       "    <tr>\n",
       "      <th>mean</th>\n",
       "      <td>0.054779</td>\n",
       "      <td>0.183102</td>\n",
       "      <td>0.491525</td>\n",
       "    </tr>\n",
       "    <tr>\n",
       "      <th>std</th>\n",
       "      <td>0.496654</td>\n",
       "      <td>0.519743</td>\n",
       "      <td>0.502060</td>\n",
       "    </tr>\n",
       "    <tr>\n",
       "      <th>min</th>\n",
       "      <td>-0.830070</td>\n",
       "      <td>-0.769740</td>\n",
       "      <td>0.000000</td>\n",
       "    </tr>\n",
       "    <tr>\n",
       "      <th>25%</th>\n",
       "      <td>-0.372120</td>\n",
       "      <td>-0.254385</td>\n",
       "      <td>0.000000</td>\n",
       "    </tr>\n",
       "    <tr>\n",
       "      <th>50%</th>\n",
       "      <td>-0.006336</td>\n",
       "      <td>0.213455</td>\n",
       "      <td>0.000000</td>\n",
       "    </tr>\n",
       "    <tr>\n",
       "      <th>75%</th>\n",
       "      <td>0.478970</td>\n",
       "      <td>0.646562</td>\n",
       "      <td>1.000000</td>\n",
       "    </tr>\n",
       "    <tr>\n",
       "      <th>max</th>\n",
       "      <td>1.070900</td>\n",
       "      <td>1.108900</td>\n",
       "      <td>1.000000</td>\n",
       "    </tr>\n",
       "  </tbody>\n",
       "</table>\n",
       "</div>"
      ],
      "text/plain": [
       "            Test1       Test2        Pass\n",
       "count  118.000000  118.000000  118.000000\n",
       "mean     0.054779    0.183102    0.491525\n",
       "std      0.496654    0.519743    0.502060\n",
       "min     -0.830070   -0.769740    0.000000\n",
       "25%     -0.372120   -0.254385    0.000000\n",
       "50%     -0.006336    0.213455    0.000000\n",
       "75%      0.478970    0.646562    1.000000\n",
       "max      1.070900    1.108900    1.000000"
      ]
     },
     "execution_count": 4,
     "metadata": {},
     "output_type": "execute_result"
    }
   ],
   "source": [
    "data.describe()"
   ]
  },
  {
   "cell_type": "markdown",
   "metadata": {},
   "source": [
    "Scale of Test values are similar. I will not apply Standardization. But if means and standart deviations were really far apart, it may have made sense to standardize the data for the optimization purposes. We can see it on a box plot. "
   ]
  },
  {
   "cell_type": "code",
   "execution_count": 5,
   "metadata": {},
   "outputs": [
    {
     "data": {
      "image/png": "[encoded data removed]",
      "text/plain": [
       "<matplotlib.figure.Figure at 0x11438d5c0>"
      ]
     },
     "metadata": {},
     "output_type": "display_data"
    }
   ],
   "source": [
    "plt.figure()\n",
    "plt.boxplot([data['Test1'], data['Test2']]);"
   ]
  },
  {
   "cell_type": "markdown",
   "metadata": {},
   "source": [
    "Let's change the visual style:"
   ]
  },
  {
   "cell_type": "code",
   "execution_count": 6,
   "metadata": {},
   "outputs": [],
   "source": [
    "plt.style.use('ggplot')"
   ]
  },
  {
   "cell_type": "markdown",
   "metadata": {},
   "source": [
    "Finally, let's visualize the data at hand:"
   ]
  },
  {
   "cell_type": "code",
   "execution_count": 7,
   "metadata": {},
   "outputs": [
    {
     "data": {
      "image/png": "[encoded data removed]",
      "text/plain": [
       "<matplotlib.figure.Figure at 0x114526d68>"
      ]
     },
     "metadata": {},
     "output_type": "display_data"
    }
   ],
   "source": [
    "fig, ax = plt.subplots(figsize=(12, 8))\n",
    "\n",
    "ax.scatter(data[data[\"Pass\"] == 0][\"Test1\"], data[data[\"Pass\"] == 0][\"Test2\"], \n",
    "           marker='x', label='Failed')\n",
    "\n",
    "ax.scatter(data[data[\"Pass\"] == 1][\"Test1\"], data[data[\"Pass\"] == 1][\"Test2\"], \n",
    "           label='Passed')\n",
    "\n",
    "ax.legend(frameon = True, fontsize=\"large\", facecolor = \"White\", framealpha = 0.7)\n",
    "ax.set_xlabel('Test1')\n",
    "ax.set_ylabel('Test2');"
   ]
  },
  {
   "cell_type": "markdown",
   "metadata": {},
   "source": [
    "A linear seperator will not cut it here, and as a result we are going to implement 5th degree polynomial regression here. It is an overkill but we will use the regularization to get rid of unnecessary elements.\n",
    "\n",
    "There is a MapFeature module in the homework written in Octave code. Using this code and the code from @jdwittenauer repo, I will transform the Dataset at hand to have the following transformation on our dataframe:\n",
    "\n",
    "$mapFeature(x) = [x_1, x_2, x_1^2, x_1 x_2,x_2^2,..., x_1x_2^5,x_2^6]$"
   ]
  },
  {
   "cell_type": "code",
   "execution_count": 9,
   "metadata": {},
   "outputs": [],
   "source": [
    "#let's first keep original data set as I will modify the dataframe\n",
    "data_or = data.copy()\n",
    "\n",
    "#There is the MapFeature.m \n",
    "#I think there was a mistake in his implementation, I corrected it\n",
    "degree = 7\n",
    "\n",
    "for i in range(1, degree):\n",
    "    for j in range(0, i+1):\n",
    "        data[\"T\" + str(i-j) + str(j)] = np.power(data[\"Test1\"], i-j) * np.power(data[\"Test2\"], j)"
   ]
  },
  {
   "cell_type": "code",
   "execution_count": 10,
   "metadata": {},
   "outputs": [
    {
     "data": {
      "text/html": [
       "<div>\n",
       "<style>\n",
       "    .dataframe thead tr:only-child th {\n",
       "        text-align: right;\n",
       "    }\n",
       "\n",
       "    .dataframe thead th {\n",
       "        text-align: left;\n",
       "    }\n",
       "\n",
       "    .dataframe tbody tr th {\n",
       "        vertical-align: top;\n",
       "    }\n",
       "</style>\n",
       "<table border=\"1\" class=\"dataframe\">\n",
       "  <thead>\n",
       "    <tr style=\"text-align: right;\">\n",
       "      <th></th>\n",
       "      <th>Pass</th>\n",
       "      <th>Ones</th>\n",
       "      <th>T10</th>\n",
       "      <th>T01</th>\n",
       "      <th>T20</th>\n",
       "      <th>T11</th>\n",
       "      <th>T02</th>\n",
       "      <th>T30</th>\n",
       "      <th>T21</th>\n",
       "      <th>T12</th>\n",
       "      <th>...</th>\n",
       "      <th>T23</th>\n",
       "      <th>T14</th>\n",
       "      <th>T05</th>\n",
       "      <th>T60</th>\n",
       "      <th>T51</th>\n",
       "      <th>T42</th>\n",
       "      <th>T33</th>\n",
       "      <th>T24</th>\n",
       "      <th>T15</th>\n",
       "      <th>T06</th>\n",
       "    </tr>\n",
       "  </thead>\n",
       "  <tbody>\n",
       "    <tr>\n",
       "      <th>0</th>\n",
       "      <td>1</td>\n",
       "      <td>1</td>\n",
       "      <td>0.051267</td>\n",
       "      <td>0.69956</td>\n",
       "      <td>0.002628</td>\n",
       "      <td>0.035864</td>\n",
       "      <td>0.489384</td>\n",
       "      <td>0.000135</td>\n",
       "      <td>0.001839</td>\n",
       "      <td>0.025089</td>\n",
       "      <td>...</td>\n",
       "      <td>0.000900</td>\n",
       "      <td>0.012278</td>\n",
       "      <td>0.167542</td>\n",
       "      <td>1.815630e-08</td>\n",
       "      <td>2.477505e-07</td>\n",
       "      <td>0.000003</td>\n",
       "      <td>0.000046</td>\n",
       "      <td>0.000629</td>\n",
       "      <td>0.008589</td>\n",
       "      <td>0.117206</td>\n",
       "    </tr>\n",
       "    <tr>\n",
       "      <th>1</th>\n",
       "      <td>1</td>\n",
       "      <td>1</td>\n",
       "      <td>-0.092742</td>\n",
       "      <td>0.68494</td>\n",
       "      <td>0.008601</td>\n",
       "      <td>-0.063523</td>\n",
       "      <td>0.469143</td>\n",
       "      <td>-0.000798</td>\n",
       "      <td>0.005891</td>\n",
       "      <td>-0.043509</td>\n",
       "      <td>...</td>\n",
       "      <td>0.002764</td>\n",
       "      <td>-0.020412</td>\n",
       "      <td>0.150752</td>\n",
       "      <td>6.362953e-07</td>\n",
       "      <td>-4.699318e-06</td>\n",
       "      <td>0.000035</td>\n",
       "      <td>-0.000256</td>\n",
       "      <td>0.001893</td>\n",
       "      <td>-0.013981</td>\n",
       "      <td>0.103256</td>\n",
       "    </tr>\n",
       "    <tr>\n",
       "      <th>2</th>\n",
       "      <td>1</td>\n",
       "      <td>1</td>\n",
       "      <td>-0.213710</td>\n",
       "      <td>0.69225</td>\n",
       "      <td>0.045672</td>\n",
       "      <td>-0.147941</td>\n",
       "      <td>0.479210</td>\n",
       "      <td>-0.009761</td>\n",
       "      <td>0.031616</td>\n",
       "      <td>-0.102412</td>\n",
       "      <td>...</td>\n",
       "      <td>0.015151</td>\n",
       "      <td>-0.049077</td>\n",
       "      <td>0.158970</td>\n",
       "      <td>9.526844e-05</td>\n",
       "      <td>-3.085938e-04</td>\n",
       "      <td>0.001000</td>\n",
       "      <td>-0.003238</td>\n",
       "      <td>0.010488</td>\n",
       "      <td>-0.033973</td>\n",
       "      <td>0.110047</td>\n",
       "    </tr>\n",
       "    <tr>\n",
       "      <th>3</th>\n",
       "      <td>1</td>\n",
       "      <td>1</td>\n",
       "      <td>-0.375000</td>\n",
       "      <td>0.50219</td>\n",
       "      <td>0.140625</td>\n",
       "      <td>-0.188321</td>\n",
       "      <td>0.252195</td>\n",
       "      <td>-0.052734</td>\n",
       "      <td>0.070620</td>\n",
       "      <td>-0.094573</td>\n",
       "      <td>...</td>\n",
       "      <td>0.017810</td>\n",
       "      <td>-0.023851</td>\n",
       "      <td>0.031940</td>\n",
       "      <td>2.780914e-03</td>\n",
       "      <td>-3.724126e-03</td>\n",
       "      <td>0.004987</td>\n",
       "      <td>-0.006679</td>\n",
       "      <td>0.008944</td>\n",
       "      <td>-0.011978</td>\n",
       "      <td>0.016040</td>\n",
       "    </tr>\n",
       "    <tr>\n",
       "      <th>4</th>\n",
       "      <td>1</td>\n",
       "      <td>1</td>\n",
       "      <td>-0.513250</td>\n",
       "      <td>0.46564</td>\n",
       "      <td>0.263426</td>\n",
       "      <td>-0.238990</td>\n",
       "      <td>0.216821</td>\n",
       "      <td>-0.135203</td>\n",
       "      <td>0.122661</td>\n",
       "      <td>-0.111283</td>\n",
       "      <td>...</td>\n",
       "      <td>0.026596</td>\n",
       "      <td>-0.024128</td>\n",
       "      <td>0.021890</td>\n",
       "      <td>1.827990e-02</td>\n",
       "      <td>-1.658422e-02</td>\n",
       "      <td>0.015046</td>\n",
       "      <td>-0.013650</td>\n",
       "      <td>0.012384</td>\n",
       "      <td>-0.011235</td>\n",
       "      <td>0.010193</td>\n",
       "    </tr>\n",
       "  </tbody>\n",
       "</table>\n",
       "<p>5 rows × 29 columns</p>\n",
       "</div>"
      ],
      "text/plain": [
       "   Pass  Ones       T10      T01       T20       T11       T02       T30  \\\n",
       "0     1     1  0.051267  0.69956  0.002628  0.035864  0.489384  0.000135   \n",
       "1     1     1 -0.092742  0.68494  0.008601 -0.063523  0.469143 -0.000798   \n",
       "2     1     1 -0.213710  0.69225  0.045672 -0.147941  0.479210 -0.009761   \n",
       "3     1     1 -0.375000  0.50219  0.140625 -0.188321  0.252195 -0.052734   \n",
       "4     1     1 -0.513250  0.46564  0.263426 -0.238990  0.216821 -0.135203   \n",
       "\n",
       "        T21       T12    ...          T23       T14       T05           T60  \\\n",
       "0  0.001839  0.025089    ...     0.000900  0.012278  0.167542  1.815630e-08   \n",
       "1  0.005891 -0.043509    ...     0.002764 -0.020412  0.150752  6.362953e-07   \n",
       "2  0.031616 -0.102412    ...     0.015151 -0.049077  0.158970  9.526844e-05   \n",
       "3  0.070620 -0.094573    ...     0.017810 -0.023851  0.031940  2.780914e-03   \n",
       "4  0.122661 -0.111283    ...     0.026596 -0.024128  0.021890  1.827990e-02   \n",
       "\n",
       "            T51       T42       T33       T24       T15       T06  \n",
       "0  2.477505e-07  0.000003  0.000046  0.000629  0.008589  0.117206  \n",
       "1 -4.699318e-06  0.000035 -0.000256  0.001893 -0.013981  0.103256  \n",
       "2 -3.085938e-04  0.001000 -0.003238  0.010488 -0.033973  0.110047  \n",
       "3 -3.724126e-03  0.004987 -0.006679  0.008944 -0.011978  0.016040  \n",
       "4 -1.658422e-02  0.015046 -0.013650  0.012384 -0.011235  0.010193  \n",
       "\n",
       "[5 rows x 29 columns]"
      ]
     },
     "execution_count": 10,
     "metadata": {},
     "output_type": "execute_result"
    }
   ],
   "source": [
    "data.drop(['Test1','Test2'], axis=1, inplace=True)\n",
    "data.insert(1, \"Ones\", 1)\n",
    "data.head()"
   ]
  },
  {
   "cell_type": "markdown",
   "metadata": {},
   "source": [
    "\"As a result of this mapping, our vector of two features (the scores on two QA tests) has been transformed into a 28-dimensional vector. \"\n",
    "\n",
    "We have 28 columns + 1 column for results as well. Finally define the numpy input and output arrays, initial theta value and check the dimensions for them"
   ]
  },
  {
   "cell_type": "code",
   "execution_count": 11,
   "metadata": {},
   "outputs": [
    {
     "data": {
      "text/plain": [
       "((118, 28), (118,), (28,))"
      ]
     },
     "execution_count": 11,
     "metadata": {},
     "output_type": "execute_result"
    }
   ],
   "source": [
    "X = data.iloc[:,1:]\n",
    "y = data.iloc[:,0]\n",
    "\n",
    "X = np.asarray(X.values)\n",
    "y = np.asarray(y.values)\n",
    "theta = np.zeros(X.shape[1])\n",
    "#check the dimensions\n",
    "X.shape, y.shape, theta.shape"
   ]
  },
  {
   "cell_type": "markdown",
   "metadata": {},
   "source": [
    "**Regularization**\n",
    "\n",
    "Regularization means we will add the following item to our old cost function:\n",
    "\n",
    "$J(\\theta) = J_{\\text{old}}(\\theta) + \\frac{\\lambda}{2m} \\sum_{j=1}^{k}\\theta_j^2$"
   ]
  },
  {
   "cell_type": "code",
   "execution_count": 12,
   "metadata": {},
   "outputs": [],
   "source": [
    "def sigmoid(z):\n",
    "    return 1.0 / (1.0 + np.exp(-z))\n",
    "\n",
    "def h(theta, X):\n",
    "    \"\"\"\n",
    "    Hypothesis Function where\n",
    "    X is an n x k dimensional array of explanatory variables\n",
    "    theta is a array with k elements of multipliers for linear function\n",
    "    Result will be one dimensional vector of n variables\n",
    "    \"\"\"\n",
    "    return sigmoid(np.dot(X, theta))"
   ]
  },
  {
   "cell_type": "code",
   "execution_count": 13,
   "metadata": {},
   "outputs": [],
   "source": [
    "#Now the cost function\n",
    "def cost_function(theta, Lambda, X, y):\n",
    "    \"\"\"\n",
    "    This is a cost function that returns the cost of theta given X and y\n",
    "    X is an n x k dimensional array of explanatory variables\n",
    "    y is a one dimensional array with n elements of explained variables\n",
    "    theta is a vector with k elements of multipliers for linear function\n",
    "    \"\"\"\n",
    "    \n",
    "    item1 = - y.flatten() * np.log(h(theta, X))\n",
    "    item2 = -(1 - y.flatten()) * np.log(1 - h(theta, X))\n",
    "    item3 = Lambda/(2*X.shape[0]) * np.sum(np.power(theta, 2)[1:])\n",
    "    return np.sum(item1 + item2) / (X.shape[0]) + item3"
   ]
  },
  {
   "cell_type": "markdown",
   "metadata": {},
   "source": [
    "$\\frac{\\partial J(\\theta)}{\\partial \\theta_{j}} = \\frac{1}{n} \\sum\\limits_{i=1}^n (h_{\\theta}(x^{i}) - y^i)x_j^i$"
   ]
  },
  {
   "cell_type": "code",
   "execution_count": 23,
   "metadata": {},
   "outputs": [],
   "source": [
    "def gradient(theta, Lambda, X, y):\n",
    "    \"\"\"\n",
    "    This function will take in theta value and calculate the gradient \n",
    "    descent values.\n",
    "    X is an n x k matrix of explanatory variables\n",
    "    y is a nsized e of explained variables\n",
    "    theta is a vector with k elements of multipliers for linear function\n",
    "    \"\"\"\n",
    "    errors = h(theta, X) - y\n",
    "    #errors will be calculated more than once, so let's do it once and store it\n",
    "    correction2 = (Lambda/X.shape[0]) * theta\n",
    "    correction2[0] = 0.0\n",
    "    correction = np.sum(errors.reshape((X.shape[0], 1)) * X, axis=0) * (1.0 / X.shape[0])\n",
    "    return correction + correction2"
   ]
  },
  {
   "cell_type": "markdown",
   "metadata": {},
   "source": [
    "The cost for Lambda=1 and theta=0 is:"
   ]
  },
  {
   "cell_type": "code",
   "execution_count": 29,
   "metadata": {},
   "outputs": [
    {
     "data": {
      "text/plain": [
       "0.6931471805599454"
      ]
     },
     "execution_count": 29,
     "metadata": {},
     "output_type": "execute_result"
    }
   ],
   "source": [
    "theta=np.zeros(X.shape[1])\n",
    "cost_function(theta, 1, X, y)"
   ]
  },
  {
   "cell_type": "markdown",
   "metadata": {},
   "source": [
    "**Finding the Parameter**\n",
    "Finally let's apply our optimization method and find the optimal theta values"
   ]
  },
  {
   "cell_type": "code",
   "execution_count": 42,
   "metadata": {},
   "outputs": [
    {
     "data": {
      "text/plain": [
       "     fun: 0.52900272996449349\n",
       "     jac: array([ -2.14982132e-06,   6.79422333e-07,  -3.48724652e-07,\n",
       "         8.76157691e-07,  -4.07783535e-08,  -9.33390864e-07,\n",
       "        -5.14534241e-07,   1.71241503e-08,   1.55194971e-08,\n",
       "        -9.72519687e-07,   6.96625774e-08,   3.55365987e-08,\n",
       "        -2.79468193e-07,   1.79679800e-07,   2.33391240e-07,\n",
       "         1.47161499e-07,  -2.11752866e-07,   6.16737240e-07,\n",
       "        -9.28573344e-08,  -5.27801203e-08,  -1.48150657e-06,\n",
       "         2.31257827e-07,   1.80352893e-07,  -1.31851751e-07,\n",
       "        -7.16896563e-08,  -4.12308012e-07,   1.65466749e-08,\n",
       "        -7.34706738e-07])\n",
       " message: 'Converged (|f_n-f_(n-1)| ~= 0)'\n",
       "    nfev: 32\n",
       "     nit: 7\n",
       "  status: 1\n",
       " success: True\n",
       "       x: array([ 1.27271027,  0.62529965,  1.18111686, -2.01987399, -0.91743189,\n",
       "       -1.43166929,  0.12393227, -0.36553118, -0.35725403, -0.17516292,\n",
       "       -1.45817009, -0.05098418, -0.61558554, -0.27469165, -1.19271298,\n",
       "       -0.24217841, -0.20603298, -0.04466178, -0.27778951, -0.29539514,\n",
       "       -0.45645982, -1.04319155,  0.02779373, -0.29244871,  0.0155576 ,\n",
       "       -0.32742406, -0.1438915 , -0.92467487])"
      ]
     },
     "execution_count": 42,
     "metadata": {},
     "output_type": "execute_result"
    }
   ],
   "source": [
    "import scipy.optimize as opt  \n",
    "\n",
    "Lambda = 1.0\n",
    "theta = np.zeros(X.shape[1])\n",
    "result = opt.minimize(fun=cost_function, method='TNC', \n",
    "                      jac= gradient, x0=theta, args=(Lambda, X,y), options={'maxiter':400})\n",
    "\n",
    "\n",
    "result"
   ]
  },
  {
   "cell_type": "markdown",
   "metadata": {},
   "source": [
    "Interesting tidbit: if you don't use the gradient function, it takes 750 loops. But if you use it it takes 32. Cost functions are very close."
   ]
  },
  {
   "cell_type": "markdown",
   "metadata": {},
   "source": [
    "Let's check the accuracy rate of our prediction function."
   ]
  },
  {
   "cell_type": "code",
   "execution_count": 43,
   "metadata": {},
   "outputs": [
    {
     "data": {
      "text/plain": [
       "0.83050847457627119"
      ]
     },
     "execution_count": 43,
     "metadata": {},
     "output_type": "execute_result"
    }
   ],
   "source": [
    "theta_opt = result['x']\n",
    "\n",
    "def prediction_function(theta, X):\n",
    "    return h(theta, X) >= 0.5\n",
    "\n",
    "total_corrects = np.sum((y.flatten() == prediction_function(theta_opt, X)))\n",
    "total_dpoints = X.shape[0]\n",
    "\n",
    "accuracy_rate = total_corrects/total_dpoints\n",
    "accuracy_rate"
   ]
  },
  {
   "cell_type": "markdown",
   "metadata": {},
   "source": [
    "**Plotting the decision boundary**\n",
    "\n",
    "We will plot the decision boundary. In order to that I will create a 3d grid with values of test1 and test2 data, and the corresponding $h_{\\theta}(X)$ (Acutally we will only find $\\theta X$ since $h$ is one to one function). Using this data we can use the plot-contour level functions to find where $\\theta X = 0$ since this is where the decision boundary is.\n",
    "\n",
    "In order to this we need to write the MapFeature function explicitly. It should take in arrays or values and give us polynomial elements of them. "
   ]
  },
  {
   "cell_type": "code",
   "execution_count": 85,
   "metadata": {},
   "outputs": [],
   "source": [
    "def MapFeature(x1, x2):\n",
    "    \"\"\"\n",
    "    This takes in two n elements vector arrays, then builds a\n",
    "    n x 28 dimensional array of features \n",
    "    \"\"\"\n",
    "    #flatten the vectors in case:\n",
    "    x1 = x1.flatten()\n",
    "    x2 = x2.flatten()\n",
    "    num_ele = len(x1) \n",
    "    degrees = 6\n",
    "    \n",
    "    res_ar = np.ones( (len(x1), 1) )\n",
    "    \n",
    "    for i in range(1, degrees+1):\n",
    "        for j in range(0, i+1):\n",
    "            res1 = np.power(x1, i-j) \n",
    "            res2 = np.power(x2, j)\n",
    "            res3 = np.multiply(res1, res2).reshape( (num_ele, 1) )\n",
    "            res_ar = np.hstack(( res_ar, res3 ))\n",
    "    return res_ar\n"
   ]
  },
  {
   "cell_type": "markdown",
   "metadata": {},
   "source": [
    "Let's check if our function work properly:"
   ]
  },
  {
   "cell_type": "code",
   "execution_count": 86,
   "metadata": {},
   "outputs": [
    {
     "data": {
      "text/plain": [
       "0"
      ]
     },
     "execution_count": 86,
     "metadata": {},
     "output_type": "execute_result"
    }
   ],
   "source": [
    "#The following code checks if there are any non-equal elements. \n",
    "np.count_nonzero(MapFeature(X[:,1],X[:,2]) != X)"
   ]
  },
  {
   "cell_type": "markdown",
   "metadata": {},
   "source": [
    "Now let's define a function to draw counters. I have used the code from the homework and @kaleko's website. In order to repeat the image from the homework, I had to transpose zvals like Prof Ng did in his codes. To be honest, I don't know why we had to do this.\n",
    "\n",
    "Our function will also show the accuracy rate before it shows the graph it drew. Quite handy."
   ]
  },
  {
   "cell_type": "code",
   "execution_count": 153,
   "metadata": {},
   "outputs": [],
   "source": [
    "def Draw_Contour(X, y, Lambda):\n",
    "    #First we need to find optimal Theta\n",
    "    theta_initial = np.zeros(X.shape[1])\n",
    "    result = opt.minimize(fun=cost_function, method='TNC', jac= gradient, \n",
    "                          x0=theta_initial, args=(Lambda, X,y), options={'maxiter':400, 'disp':False})\n",
    "    \n",
    "    theta = result['x']\n",
    "    #Next define the grids\n",
    "    xvals = np.linspace(-1,1.5,50)\n",
    "    yvals = np.linspace(-1,1.5,50)\n",
    "    zvals = np.zeros((len(xvals),len(yvals)))\n",
    "\n",
    "    for i, xv in enumerate(xvals):\n",
    "        for j, yv in enumerate(yvals):\n",
    "            features = MapFeature(np.array(xv), np.array(yv))\n",
    "            zvals[i, j] = np.dot(features, theta)\n",
    "    zvals = zvals.transpose()\n",
    "    #To be honest I don't know why we transpose but this is the way it is in \n",
    "    #the code provided by Professor Ng. \n",
    "    \n",
    "    #Now draw the graph. I reused some code from before. \n",
    "    fig, ax = plt.subplots(figsize=(12, 8))\n",
    "    \n",
    "    ax.scatter(X[(y == 0), 1], X[(y == 0), 2], marker='x', label='Failed')\n",
    "    \n",
    "    ax.scatter(X[(y == 1), 1], X[(y == 1), 2], label='Passed')\n",
    "    \n",
    "    mycontour = ax.contour( xvals, yvals, zvals, [0], label=\"boundary\")\n",
    "    myfmt = { 0:'Lambda = %d'%Lambda}\n",
    "    ax.clabel(mycontour, inline=1, fontsize=15, fmt=myfmt)\n",
    "    \n",
    "        \n",
    "    ax.legend(frameon = True, fontsize=\"large\", facecolor = \"White\", framealpha = 0.7)\n",
    "    ax.set_xlabel('Test1')\n",
    "    ax.set_ylabel('Test2')\n",
    "    #Our function will also show the accuracy rate as it draws the graph\n",
    "    \n",
    "    total_corrects = np.sum((y.flatten() == prediction_function(theta, X)))\n",
    "    total_dpoints = X.shape[0]\n",
    "\n",
    "    accuracy_rate = total_corrects/total_dpoints\n",
    "    return accuracy_rate\n"
   ]
  },
  {
   "cell_type": "markdown",
   "metadata": {},
   "source": [
    "Let's try our function for different Lambda values, for Lambda = 0, 1, 10"
   ]
  },
  {
   "cell_type": "code",
   "execution_count": 161,
   "metadata": {},
   "outputs": [
    {
     "data": {
      "text/plain": [
       "0.88135593220338981"
      ]
     },
     "execution_count": 161,
     "metadata": {},
     "output_type": "execute_result"
    },
    {
     "data": {
      "image/png": "[encoded data removed]",
      "text/plain": [
       "<matplotlib.figure.Figure at 0x11a653c18>"
      ]
     },
     "metadata": {},
     "output_type": "display_data"
    }
   ],
   "source": [
    "Draw_Contour(X, y, 0.00001)"
   ]
  },
  {
   "cell_type": "code",
   "execution_count": 162,
   "metadata": {},
   "outputs": [
    {
     "data": {
      "text/plain": [
       "0.83050847457627119"
      ]
     },
     "execution_count": 162,
     "metadata": {},
     "output_type": "execute_result"
    },
    {
     "data": {
      "image/png": "[encoded data removed]",
      "text/plain": [
       "<matplotlib.figure.Figure at 0x115f57668>"
      ]
     },
     "metadata": {},
     "output_type": "display_data"
    }
   ],
   "source": [
    "Draw_Contour(X, y, 1.0)"
   ]
  },
  {
   "cell_type": "code",
   "execution_count": 163,
   "metadata": {},
   "outputs": [
    {
     "data": {
      "text/plain": [
       "0.74576271186440679"
      ]
     },
     "execution_count": 163,
     "metadata": {},
     "output_type": "execute_result"
    },
    {
     "data": {
      "image/png": "[encoded data removed]",
      "text/plain": [
       "<matplotlib.figure.Figure at 0x11a893a90>"
      ]
     },
     "metadata": {},
     "output_type": "display_data"
    }
   ],
   "source": [
    "Draw_Contour(X, y, 10)"
   ]
  }
 ],
 "metadata": {
  "kernelspec": {
   "display_name": "Python [conda root]",
   "language": "python",
   "name": "conda-root-py"
  },
  "language_info": {
   "codemirror_mode": {
    "name": "ipython",
    "version": 3
   },
   "file_extension": ".py",
   "mimetype": "text/x-python",
   "name": "python",
   "nbconvert_exporter": "python",
   "pygments_lexer": "ipython3",
   "version": "3.5.4"
  }
 },
 "nbformat": 4,
 "nbformat_minor": 2
}
