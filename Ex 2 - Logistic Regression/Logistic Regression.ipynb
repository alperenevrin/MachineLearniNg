{
 "cells": [
  {
   "cell_type": "markdown",
   "metadata": {},
   "source": [
    "In this part we have a classification problem. From the source:\n",
    "\n",
    "\"Suppose that you are the administrator of a university department and you want to determine each applicant’s chance of admission based on their results on two exams. You have historical data from previous applicants that you can use as a training set for logistic regression. For each training example, you have the applicant’s scores on two exams and the admissions decision.\n",
    "\n",
    "Your task is to build a classification model that estimates an applicant’s probability of admission based the scores from those two exams.\""
   ]
  },
  {
   "cell_type": "code",
   "execution_count": 1,
   "metadata": {},
   "outputs": [],
   "source": [
    "#import the libraries\n",
    "import numpy as np\n",
    "import pandas as pd\n",
    "import matplotlib.pyplot as plt\n",
    "%matplotlib inline"
   ]
  },
  {
   "cell_type": "code",
   "execution_count": 2,
   "metadata": {},
   "outputs": [
    {
     "name": "stdout",
     "output_type": "stream",
     "text": [
      "34.62365962451697,78.0246928153624,0\r\n",
      "30.28671076822607,43.89499752400101,0\r\n",
      "35.84740876993872,72.90219802708364,0\r\n",
      "60.18259938620976,86.30855209546826,1\r\n",
      "79.0327360507101,75.3443764369103,1\r\n",
      "45.08327747668339,56.3163717815305,0\r\n",
      "61.10666453684766,96.51142588489624,1\r\n",
      "75.02474556738889,46.55401354116538,1\r\n",
      "76.09878670226257,87.42056971926803,1\r\n",
      "84.43281996120035,43.53339331072109,1\r\n"
     ]
    }
   ],
   "source": [
    "#Check the data file\n",
    "!head ../data/ex2data1.txt"
   ]
  },
  {
   "cell_type": "code",
   "execution_count": 3,
   "metadata": {},
   "outputs": [
    {
     "data": {
      "text/html": [
       "<div>\n",
       "<style>\n",
       "    .dataframe thead tr:only-child th {\n",
       "        text-align: right;\n",
       "    }\n",
       "\n",
       "    .dataframe thead th {\n",
       "        text-align: left;\n",
       "    }\n",
       "\n",
       "    .dataframe tbody tr th {\n",
       "        vertical-align: top;\n",
       "    }\n",
       "</style>\n",
       "<table border=\"1\" class=\"dataframe\">\n",
       "  <thead>\n",
       "    <tr style=\"text-align: right;\">\n",
       "      <th></th>\n",
       "      <th>Exam1</th>\n",
       "      <th>Exam2</th>\n",
       "      <th>Admission</th>\n",
       "    </tr>\n",
       "  </thead>\n",
       "  <tbody>\n",
       "    <tr>\n",
       "      <th>0</th>\n",
       "      <td>34.623660</td>\n",
       "      <td>78.024693</td>\n",
       "      <td>0</td>\n",
       "    </tr>\n",
       "    <tr>\n",
       "      <th>1</th>\n",
       "      <td>30.286711</td>\n",
       "      <td>43.894998</td>\n",
       "      <td>0</td>\n",
       "    </tr>\n",
       "    <tr>\n",
       "      <th>2</th>\n",
       "      <td>35.847409</td>\n",
       "      <td>72.902198</td>\n",
       "      <td>0</td>\n",
       "    </tr>\n",
       "    <tr>\n",
       "      <th>3</th>\n",
       "      <td>60.182599</td>\n",
       "      <td>86.308552</td>\n",
       "      <td>1</td>\n",
       "    </tr>\n",
       "    <tr>\n",
       "      <th>4</th>\n",
       "      <td>79.032736</td>\n",
       "      <td>75.344376</td>\n",
       "      <td>1</td>\n",
       "    </tr>\n",
       "  </tbody>\n",
       "</table>\n",
       "</div>"
      ],
      "text/plain": [
       "       Exam1      Exam2  Admission\n",
       "0  34.623660  78.024693          0\n",
       "1  30.286711  43.894998          0\n",
       "2  35.847409  72.902198          0\n",
       "3  60.182599  86.308552          1\n",
       "4  79.032736  75.344376          1"
      ]
     },
     "execution_count": 3,
     "metadata": {},
     "output_type": "execute_result"
    }
   ],
   "source": [
    "#Import the data and add the titles\n",
    "data = pd.read_csv('../data/ex2data1.txt', sep=\",\", header=None, names=['Exam1', 'Exam2', 'Admission'])\n",
    "data.head()"
   ]
  },
  {
   "cell_type": "markdown",
   "metadata": {},
   "source": [
    "ExamX indicates the grade from Exam X. Admission is a binary value, 1 indicating that a student is admitted."
   ]
  },
  {
   "cell_type": "code",
   "execution_count": 4,
   "metadata": {},
   "outputs": [
    {
     "data": {
      "text/html": [
       "<div>\n",
       "<style>\n",
       "    .dataframe thead tr:only-child th {\n",
       "        text-align: right;\n",
       "    }\n",
       "\n",
       "    .dataframe thead th {\n",
       "        text-align: left;\n",
       "    }\n",
       "\n",
       "    .dataframe tbody tr th {\n",
       "        vertical-align: top;\n",
       "    }\n",
       "</style>\n",
       "<table border=\"1\" class=\"dataframe\">\n",
       "  <thead>\n",
       "    <tr style=\"text-align: right;\">\n",
       "      <th></th>\n",
       "      <th>Exam1</th>\n",
       "      <th>Exam2</th>\n",
       "      <th>Admission</th>\n",
       "    </tr>\n",
       "  </thead>\n",
       "  <tbody>\n",
       "    <tr>\n",
       "      <th>count</th>\n",
       "      <td>100.000000</td>\n",
       "      <td>100.000000</td>\n",
       "      <td>100.000000</td>\n",
       "    </tr>\n",
       "    <tr>\n",
       "      <th>mean</th>\n",
       "      <td>65.644274</td>\n",
       "      <td>66.221998</td>\n",
       "      <td>0.600000</td>\n",
       "    </tr>\n",
       "    <tr>\n",
       "      <th>std</th>\n",
       "      <td>19.458222</td>\n",
       "      <td>18.582783</td>\n",
       "      <td>0.492366</td>\n",
       "    </tr>\n",
       "    <tr>\n",
       "      <th>min</th>\n",
       "      <td>30.058822</td>\n",
       "      <td>30.603263</td>\n",
       "      <td>0.000000</td>\n",
       "    </tr>\n",
       "    <tr>\n",
       "      <th>25%</th>\n",
       "      <td>50.919511</td>\n",
       "      <td>48.179205</td>\n",
       "      <td>0.000000</td>\n",
       "    </tr>\n",
       "    <tr>\n",
       "      <th>50%</th>\n",
       "      <td>67.032988</td>\n",
       "      <td>67.682381</td>\n",
       "      <td>1.000000</td>\n",
       "    </tr>\n",
       "    <tr>\n",
       "      <th>75%</th>\n",
       "      <td>80.212529</td>\n",
       "      <td>79.360605</td>\n",
       "      <td>1.000000</td>\n",
       "    </tr>\n",
       "    <tr>\n",
       "      <th>max</th>\n",
       "      <td>99.827858</td>\n",
       "      <td>98.869436</td>\n",
       "      <td>1.000000</td>\n",
       "    </tr>\n",
       "  </tbody>\n",
       "</table>\n",
       "</div>"
      ],
      "text/plain": [
       "            Exam1       Exam2   Admission\n",
       "count  100.000000  100.000000  100.000000\n",
       "mean    65.644274   66.221998    0.600000\n",
       "std     19.458222   18.582783    0.492366\n",
       "min     30.058822   30.603263    0.000000\n",
       "25%     50.919511   48.179205    0.000000\n",
       "50%     67.032988   67.682381    1.000000\n",
       "75%     80.212529   79.360605    1.000000\n",
       "max     99.827858   98.869436    1.000000"
      ]
     },
     "execution_count": 4,
     "metadata": {},
     "output_type": "execute_result"
    }
   ],
   "source": [
    "data.describe()"
   ]
  },
  {
   "cell_type": "markdown",
   "metadata": {},
   "source": [
    "I will import seaborn library again for the style"
   ]
  },
  {
   "cell_type": "code",
   "execution_count": 5,
   "metadata": {},
   "outputs": [],
   "source": [
    "import seaborn as sns\n",
    "sns.set_style('whitegrid')\n",
    "sns.set()"
   ]
  },
  {
   "cell_type": "markdown",
   "metadata": {},
   "source": [
    "Let's visualize this data. Our dependent value (ie explained value) is a binary value. We will use colors to indicate its value. X and Y axis will be used for continuous values of exam results."
   ]
  },
  {
   "cell_type": "code",
   "execution_count": 6,
   "metadata": {},
   "outputs": [
    {
     "data": {
      "image/png": "[encoded data removed]",
      "text/plain": [
       "<matplotlib.figure.Figure at 0x117009dd8>"
      ]
     },
     "metadata": {},
     "output_type": "display_data"
    }
   ],
   "source": [
    "fig, ax = plt.subplots(figsize=(12, 8))\n",
    "\n",
    "#First scatter the people who were addmitted\n",
    "ax.scatter(data[data[\"Admission\"] == 1][\"Exam1\"], data[data[\"Admission\"] == 1][\"Exam2\"], \n",
    "           c='k', marker='+', label='Admitted')\n",
    "\n",
    "#Now the Non-Admitted Folks\n",
    "ax.scatter(data[data[\"Admission\"] == 0][\"Exam1\"], data[data[\"Admission\"] == 0][\"Exam2\"],\n",
    "          c='y', marker='o', label=\"Non Admitted\")\n",
    "\n",
    "ax.legend(frameon = True, fontsize=\"large\", facecolor = \"White\", framealpha = 0.7)\n",
    "ax.set_xlabel('Exam 1 Score')\n",
    "ax.set_ylabel('Exam 2 Score');"
   ]
  },
  {
   "cell_type": "markdown",
   "metadata": {},
   "source": [
    "What we have here is more or less a linear border between classes. There is some curvature as well but a linear seperator will do the job"
   ]
  },
  {
   "cell_type": "markdown",
   "metadata": {},
   "source": [
    "**Warm up Exercise**\n",
    "\n",
    "We should write the Sigmoid function.\n",
    "\n",
    "$h_\\theta(x) = g(\\theta^{T}x)$\n",
    "\n",
    "and $g$ is the sigmoid function. It is defined as:\n",
    "\n",
    "$g(z) = \\frac{1}{1 + e ^ {-z}}$"
   ]
  },
  {
   "cell_type": "code",
   "execution_count": 199,
   "metadata": {},
   "outputs": [],
   "source": [
    "def sigmoid(z):\n",
    "    return 1.0 / (1.0 + np.exp(-z))"
   ]
  },
  {
   "cell_type": "code",
   "execution_count": 200,
   "metadata": {},
   "outputs": [
    {
     "name": "stdout",
     "output_type": "stream",
     "text": [
      "sigmoid(0) =  0.5\n"
     ]
    },
    {
     "data": {
      "image/png": "[encoded data removed]",
      "text/plain": [
       "<matplotlib.figure.Figure at 0x11b131908>"
      ]
     },
     "metadata": {},
     "output_type": "display_data"
    }
   ],
   "source": [
    "#Let's draw this graph:\n",
    "interval = np.arange(-10, 10, 0.1)\n",
    "\n",
    "fig, ax = plt.subplots(figsize=(12, 8))\n",
    "ax.plot(interval, sigmoid(interval), c='magenta')\n",
    "ax.set_title(\"Sigmoid Function\");\n",
    "\n",
    "#Also print the value for sigmoid(0). It should be 0.5:\n",
    "print('sigmoid(0) = ',sigmoid(0))\n",
    "del(interval)"
   ]
  },
  {
   "cell_type": "markdown",
   "metadata": {},
   "source": [
    "**Cost function and gradient**\n",
    "\n",
    "This is the cost function for Logistic Regression. \n",
    "\n",
    "![alt text](eq1.png \"Cost Function\")\n",
    "\n",
    "Since I was too lazy to write it down in Markdown language, I imported the image of equation. The code for importing is \n",
    "\n",
    "$\\text{![alt text](eq1.png \"Cost Function\")}$  \n",
    "\n",
    "(without the outer quotation marks). I will start with defining the hypothesis function $h_{\\theta}(X)$, afterwards I will define the cost function. \n"
   ]
  },
  {
   "cell_type": "code",
   "execution_count": 174,
   "metadata": {},
   "outputs": [],
   "source": [
    "#This time I will first define the hypothesis function\n",
    "def h(theta, X):\n",
    "    return sigmoid(np.dot(X, theta))\n",
    "\n",
    "#Now the cost function\n",
    "def cost_function(theta, X, y):\n",
    "    \"\"\"\n",
    "    This is a cost function that returns the cost of theta given X and y\n",
    "    X is an n x k matrix of explanatory variables\n",
    "    y is a n x 1 matrix of explained variables\n",
    "    theta is a k x 1 matrix of multipliers for linear function\n",
    "    \"\"\"\n",
    "    \n",
    "    item1 = - y * np.log(h(theta, X))\n",
    "    item2 = -(1 - y) * np.log(1 - h(theta, X))\n",
    "    return np.sum(item1 + item2) / (X.shape[0])"
   ]
  },
  {
   "cell_type": "markdown",
   "metadata": {},
   "source": [
    "Let's take a break from functions and go back to our data. We should convert our pandas items to numpy elements. \n",
    "\n",
    "First I will add a column of ones. Then I will make ones as the first column of data and seperate explanatory variables from explained variable. Finally I will convert the pandas dataframe to numpy matrices."
   ]
  },
  {
   "cell_type": "code",
   "execution_count": 10,
   "metadata": {},
   "outputs": [
    {
     "data": {
      "text/html": [
       "<div>\n",
       "<style>\n",
       "    .dataframe thead tr:only-child th {\n",
       "        text-align: right;\n",
       "    }\n",
       "\n",
       "    .dataframe thead th {\n",
       "        text-align: left;\n",
       "    }\n",
       "\n",
       "    .dataframe tbody tr th {\n",
       "        vertical-align: top;\n",
       "    }\n",
       "</style>\n",
       "<table border=\"1\" class=\"dataframe\">\n",
       "  <thead>\n",
       "    <tr style=\"text-align: right;\">\n",
       "      <th></th>\n",
       "      <th>Exam1</th>\n",
       "      <th>Exam2</th>\n",
       "      <th>Admission</th>\n",
       "      <th>ones</th>\n",
       "    </tr>\n",
       "  </thead>\n",
       "  <tbody>\n",
       "    <tr>\n",
       "      <th>0</th>\n",
       "      <td>34.623660</td>\n",
       "      <td>78.024693</td>\n",
       "      <td>0</td>\n",
       "      <td>1.0</td>\n",
       "    </tr>\n",
       "    <tr>\n",
       "      <th>1</th>\n",
       "      <td>30.286711</td>\n",
       "      <td>43.894998</td>\n",
       "      <td>0</td>\n",
       "      <td>1.0</td>\n",
       "    </tr>\n",
       "    <tr>\n",
       "      <th>2</th>\n",
       "      <td>35.847409</td>\n",
       "      <td>72.902198</td>\n",
       "      <td>0</td>\n",
       "      <td>1.0</td>\n",
       "    </tr>\n",
       "    <tr>\n",
       "      <th>3</th>\n",
       "      <td>60.182599</td>\n",
       "      <td>86.308552</td>\n",
       "      <td>1</td>\n",
       "      <td>1.0</td>\n",
       "    </tr>\n",
       "    <tr>\n",
       "      <th>4</th>\n",
       "      <td>79.032736</td>\n",
       "      <td>75.344376</td>\n",
       "      <td>1</td>\n",
       "      <td>1.0</td>\n",
       "    </tr>\n",
       "  </tbody>\n",
       "</table>\n",
       "</div>"
      ],
      "text/plain": [
       "       Exam1      Exam2  Admission  ones\n",
       "0  34.623660  78.024693          0   1.0\n",
       "1  30.286711  43.894998          0   1.0\n",
       "2  35.847409  72.902198          0   1.0\n",
       "3  60.182599  86.308552          1   1.0\n",
       "4  79.032736  75.344376          1   1.0"
      ]
     },
     "execution_count": 10,
     "metadata": {},
     "output_type": "execute_result"
    }
   ],
   "source": [
    "ones = np.ones(data['Exam1'].shape[0])\n",
    "data['ones'] = ones\n",
    "del(ones) #remove unused items\n",
    "data.head()"
   ]
  },
  {
   "cell_type": "code",
   "execution_count": 11,
   "metadata": {},
   "outputs": [
    {
     "data": {
      "text/html": [
       "<div>\n",
       "<style>\n",
       "    .dataframe thead tr:only-child th {\n",
       "        text-align: right;\n",
       "    }\n",
       "\n",
       "    .dataframe thead th {\n",
       "        text-align: left;\n",
       "    }\n",
       "\n",
       "    .dataframe tbody tr th {\n",
       "        vertical-align: top;\n",
       "    }\n",
       "</style>\n",
       "<table border=\"1\" class=\"dataframe\">\n",
       "  <thead>\n",
       "    <tr style=\"text-align: right;\">\n",
       "      <th></th>\n",
       "      <th>ones</th>\n",
       "      <th>Exam1</th>\n",
       "      <th>Exam2</th>\n",
       "      <th>Admission</th>\n",
       "    </tr>\n",
       "  </thead>\n",
       "  <tbody>\n",
       "    <tr>\n",
       "      <th>0</th>\n",
       "      <td>1.0</td>\n",
       "      <td>34.623660</td>\n",
       "      <td>78.024693</td>\n",
       "      <td>0</td>\n",
       "    </tr>\n",
       "    <tr>\n",
       "      <th>1</th>\n",
       "      <td>1.0</td>\n",
       "      <td>30.286711</td>\n",
       "      <td>43.894998</td>\n",
       "      <td>0</td>\n",
       "    </tr>\n",
       "    <tr>\n",
       "      <th>2</th>\n",
       "      <td>1.0</td>\n",
       "      <td>35.847409</td>\n",
       "      <td>72.902198</td>\n",
       "      <td>0</td>\n",
       "    </tr>\n",
       "    <tr>\n",
       "      <th>3</th>\n",
       "      <td>1.0</td>\n",
       "      <td>60.182599</td>\n",
       "      <td>86.308552</td>\n",
       "      <td>1</td>\n",
       "    </tr>\n",
       "    <tr>\n",
       "      <th>4</th>\n",
       "      <td>1.0</td>\n",
       "      <td>79.032736</td>\n",
       "      <td>75.344376</td>\n",
       "      <td>1</td>\n",
       "    </tr>\n",
       "  </tbody>\n",
       "</table>\n",
       "</div>"
      ],
      "text/plain": [
       "   ones      Exam1      Exam2  Admission\n",
       "0   1.0  34.623660  78.024693          0\n",
       "1   1.0  30.286711  43.894998          0\n",
       "2   1.0  35.847409  72.902198          0\n",
       "3   1.0  60.182599  86.308552          1\n",
       "4   1.0  79.032736  75.344376          1"
      ]
     },
     "execution_count": 11,
     "metadata": {},
     "output_type": "execute_result"
    }
   ],
   "source": [
    "cols = list(data.columns)\n",
    "cols = cols[-1:] + cols[:-1]\n",
    "data = data[cols]\n",
    "#del(cols)\n",
    "data.head()"
   ]
  },
  {
   "cell_type": "code",
   "execution_count": 12,
   "metadata": {},
   "outputs": [
    {
     "name": "stdout",
     "output_type": "stream",
     "text": [
      "   ones      Exam1      Exam2\n",
      "0   1.0  34.623660  78.024693\n",
      "1   1.0  30.286711  43.894998\n",
      "2   1.0  35.847409  72.902198\n",
      "   Admission\n",
      "0          0\n",
      "1          0\n",
      "2          0\n"
     ]
    }
   ],
   "source": [
    "X = data[cols[:-1]]\n",
    "y = data[cols[-1:]]\n",
    "print(X.head(3))\n",
    "print(y.head(3))\n",
    "#We seperated explanatory and explained values"
   ]
  },
  {
   "cell_type": "code",
   "execution_count": 13,
   "metadata": {},
   "outputs": [
    {
     "data": {
      "text/plain": [
       "((100, 3), (100, 1))"
      ]
     },
     "execution_count": 13,
     "metadata": {},
     "output_type": "execute_result"
    }
   ],
   "source": [
    "X = np.asarray(X.values)\n",
    "y = np.asarray(y.values)\n",
    "#check the dimensions\n",
    "X.shape, y.shape"
   ]
  },
  {
   "cell_type": "markdown",
   "metadata": {},
   "source": [
    "A note on the above cell. I have used np.matrix before. Now I am using np.asarray. Matrix in Numpy causes weird behaviors. For example X * y has elementwise multiplication as arrays. But it is equivalent to np.dot(X, y) or X@y. But this creates inconsistent behaviour. I have used matrix in previous solutions but I will stick to arrays from now on.\n",
    "\n",
    "Finally let's define a theta value and check the cost value for it. My theta values are arrays of shape (k, 1) where k is the number of explanatory variables (number of columns of X). From the instructions: \"You should see that the cost is about 0.693.\""
   ]
  },
  {
   "cell_type": "code",
   "execution_count": 175,
   "metadata": {},
   "outputs": [
    {
     "data": {
      "text/plain": [
       "0.69314718055994529"
      ]
     },
     "execution_count": 175,
     "metadata": {},
     "output_type": "execute_result"
    }
   ],
   "source": [
    "theta = np.zeros((X.shape[1],1))\n",
    "\n",
    "cost_function(theta, X, y)"
   ]
  },
  {
   "cell_type": "markdown",
   "metadata": {},
   "source": [
    "Now we'll define gradient function. Scipy's optimization libraries usually don't necessiate defining a gradient function. But let's go ahead and define the gradient function correction function using the following equations. \n",
    "\n",
    "Note: The first function is the gradient function. Second one is the function that updates our theta value.\n",
    "\n",
    "$\\frac{\\partial J(\\theta)}{\\partial \\theta_{j}} = \\frac{1}{n} \\sum\\limits_{i=1}^n (h_{\\theta}(x^{i}) - y^i)x_j^i$\n",
    "\n",
    "$\\theta_{j}^{\\text{new}} = \\theta_{j}^{\\text{old}}  - \\alpha \\frac{\\partial J(\\theta^{\\text{old}})}{\\partial \\theta_{j}}$"
   ]
  },
  {
   "cell_type": "code",
   "execution_count": 182,
   "metadata": {},
   "outputs": [],
   "source": [
    "def gradient(theta, X, y):\n",
    "    \"\"\"\n",
    "    This function will take in theta value and calculate the gradient \n",
    "    descent values.\n",
    "    X is an n x k matrix of explanatory variables\n",
    "    y is a n x 1 matrix of explained variables\n",
    "    theta is a k x 1 matrix of multipliers for linear function\n",
    "    \"\"\"\n",
    "    errors = h(theta, X) - y\n",
    "    #errors will be calculated more than once, so let's do it once and store it\n",
    "    correction = np.sum(errors * X, axis=0) * (1.0 / X.shape[0])\n",
    "    return correction.reshape((X.shape[1], 1))\n",
    "\n",
    "def gradient_update(theta, X, y, alpha=0.01):\n",
    "    \"\"\"\n",
    "    This function will take in theta value and update it to a new one \n",
    "    according to gradient descent for logistic regression function.\n",
    "    X is an n x k matrix of explanatory variables\n",
    "    y is a n x 1 matrix of explained variables\n",
    "    theta is a k x 1 matrix of multipliers for linear function\n",
    "    alpha is the size of the step for updating new theta values\n",
    "    \"\"\"\n",
    "    grad = gradient(theta, X, y)\n",
    "    return theta - alpha * grad\n"
   ]
  },
  {
   "cell_type": "markdown",
   "metadata": {},
   "source": [
    "Unfortunately scipy's optimization libraries failed to produce a result for me. I will use the good old method of optimization I have used previously. "
   ]
  },
  {
   "cell_type": "code",
   "execution_count": 246,
   "metadata": {},
   "outputs": [
    {
     "name": "stdout",
     "output_type": "stream",
     "text": [
      "[[-22.50611711]\n",
      " [  0.18500323]\n",
      " [  0.17998084]]\n",
      "0.204650265225\n"
     ]
    }
   ],
   "source": [
    "iterations = 3000000\n",
    "alpha = 0.0014\n",
    "theta = np.zeros((X.shape[1],1))\n",
    "cost_values = np.empty(int(iterations/1000))\n",
    "theta_values = np.empty((int(iterations/1000), theta_1.shape[0], 1))\n",
    "\n",
    "for i in range(iterations):\n",
    "    theta = gradient_update(theta, X, y, alpha)\n",
    "    if (i % 1000) == 0:\n",
    "        cost_values[int(i/1000)] = cost_function(theta, X, y)\n",
    "        theta_values[int(i/1000), :, :] = theta\n",
    "    \n",
    "    \n",
    "print(theta)\n",
    "print(cost_function(theta,X, y))"
   ]
  },
  {
   "cell_type": "markdown",
   "metadata": {},
   "source": [
    "This method is really in efficient. Especially for loop makes it extremely slow. On top of it, you should keep an eye on the alpha variable. Even an alpha variable of 0.0015 makes the optimization unstable. You must really draw the cost vs iteration graph to make sure your iteration is going smoothly. It should not jump around. On top of it, we needed an extremely high number of iterations to reach the optimal number.\n",
    "\n",
    "I could not get scipy's optimization functions to work properly with my current code because they need to work with 1D arrays. My theta objects are always 2D. I will rewrite my cost function and gradient function to make it suitable with scipy. Excuse the way I leave things the way they are because I don't want to only present the best solutions I have, I want to document my mistakes when I am figuring things out. It seems like the biggest hurdle with numerical computing on Python is the dimensions of arrays. Who could guess it? \n",
    "\n",
    "Finally excuse my inelegant way of saving memory for cost_values and theta values."
   ]
  },
  {
   "cell_type": "code",
   "execution_count": 268,
   "metadata": {},
   "outputs": [
    {
     "data": {
      "image/png": "[encoded data removed]",
      "text/plain": [
       "<matplotlib.figure.Figure at 0x1232bccf8>"
      ]
     },
     "metadata": {},
     "output_type": "display_data"
    }
   ],
   "source": [
    "theta_sol1 = theta.copy()\n",
    "#Just want to save the theta value we found since I will reset theta later\n",
    "fig, ax = plt.subplots(figsize=(12, 8))\n",
    "\n",
    "ax.scatter(np.arange(0, iterations/1000), cost_values, s = 15)\n",
    "ax.set(xlabel = 'Iterations', ylabel = 'Cost',\n",
    "      title = 'Error vs Training');"
   ]
  },
  {
   "cell_type": "markdown",
   "metadata": {},
   "source": [
    "Back to the drawing board and let's flatten thetas. My cost function does not play well with flattened thetas. The part where y is multiplied with np.log... is the part that created the problems. y must be flattened:"
   ]
  },
  {
   "cell_type": "code",
   "execution_count": 344,
   "metadata": {},
   "outputs": [],
   "source": [
    "def h(theta, X):\n",
    "    return sigmoid(np.dot(X, theta))\n",
    "\n",
    "#Now the cost function\n",
    "def cost_function(theta, X, y):\n",
    "    \"\"\"\n",
    "    This is a cost function that returns the cost of theta given X and y\n",
    "    X is an n x k matrix of explanatory variables\n",
    "    y is a n x 1 matrix of explained variables\n",
    "    theta is a vector with k elements of multipliers for linear function\n",
    "    \"\"\"\n",
    "    \n",
    "    item1 = - y.flatten() * np.log(h(theta, X))\n",
    "    item2 = -(1 - y.flatten()) * np.log(1 - h(theta, X))\n",
    "    return np.sum(item1 + item2) / (X.shape[0])"
   ]
  },
  {
   "cell_type": "markdown",
   "metadata": {},
   "source": [
    "Similar problem here. y does not play with flattened theta values.\n",
    "Note to myself: It would be much easier to force the dimensions for theta within the function first, then proceed."
   ]
  },
  {
   "cell_type": "code",
   "execution_count": 359,
   "metadata": {},
   "outputs": [],
   "source": [
    "def gradient(theta, X, y):\n",
    "    \"\"\"\n",
    "    This function will take in theta value and calculate the gradient \n",
    "    descent values.\n",
    "    X is an n x k matrix of explanatory variables\n",
    "    y is a n x 1 matrix of explained variables\n",
    "    theta is a vector with k elements of multipliers for linear function\n",
    "    \"\"\"\n",
    "    errors = h(theta, X) - y.flatten()\n",
    "    #errors will be calculated more than once, so let's do it once and store it\n",
    "    correction = np.sum(errors.reshape((X.shape[0], 1)) * X, axis=0) * (1.0 / X.shape[0])\n",
    "    return correction"
   ]
  },
  {
   "cell_type": "markdown",
   "metadata": {},
   "source": [
    "Finally we can apply our optimization algorithm. We'll import scipy. There is an algorithm in scipy that uses gradient information as well."
   ]
  },
  {
   "cell_type": "code",
   "execution_count": 375,
   "metadata": {},
   "outputs": [
    {
     "data": {
      "text/plain": [
       "     fun: 0.20349770158947517\n",
       "     jac: array([  9.11884479e-09,   9.74363717e-08,   4.76377099e-07])\n",
       " message: 'Local minimum reached (|pg| ~= 0)'\n",
       "    nfev: 36\n",
       "     nit: 17\n",
       "  status: 0\n",
       " success: True\n",
       "       x: array([-25.16131849,   0.20623159,   0.20147148])"
      ]
     },
     "execution_count": 375,
     "metadata": {},
     "output_type": "execute_result"
    }
   ],
   "source": [
    "import scipy.optimize as opt  \n",
    "\n",
    "theta = np.zeros(X.shape[1])\n",
    "result = opt.minimize(fun=cost_function, method='TNC', \n",
    "                      jac=gradient, x0=theta, args=(X,y), options={'maxiter':400})\n",
    "\n",
    "result"
   ]
  },
  {
   "cell_type": "markdown",
   "metadata": {},
   "source": [
    "This just looks beautiful and it is far much more efficient :) It only took 17 iterations to find the result! I used 3 million loops before, and I was not able to optimize as good as this one.\n",
    "\n",
    "\"After learning the parameters, you can use the model to predict whether a particular student will be admitted. For a student with an Exam 1 score of 45 and an Exam 2 score of 85, you should expect to see an admission probability of 0.776.\""
   ]
  },
  {
   "cell_type": "code",
   "execution_count": 381,
   "metadata": {},
   "outputs": [
    {
     "data": {
      "text/plain": [
       "0.77629062151050376"
      ]
     },
     "execution_count": 381,
     "metadata": {},
     "output_type": "execute_result"
    }
   ],
   "source": [
    "theta = result['x']\n",
    "x_trial = np.array([1.0, 45.0, 85.0])\n",
    "h(theta, x_trial)"
   ]
  },
  {
   "cell_type": "markdown",
   "metadata": {},
   "source": [
    "Let's visualize the results.\n",
    "\n",
    "Decision boundary happens when $\\theta * X = 0$. We will define two points and draw a line between them. "
   ]
  },
  {
   "cell_type": "code",
   "execution_count": 389,
   "metadata": {},
   "outputs": [
    {
     "data": {
      "image/png": "[encoded data removed]",
      "text/plain": [
       "<matplotlib.figure.Figure at 0x12368dc50>"
      ]
     },
     "metadata": {},
     "output_type": "display_data"
    }
   ],
   "source": [
    "x_p = np.array([np.min(X[:,1]), np.max(X[:,1])])\n",
    "y_p = (-1.0 / theta[2]) * (theta[0] + theta[1] * x_p)\n",
    "\n",
    "fig, ax = plt.subplots(figsize=(12, 8))\n",
    "\n",
    "#First scatter the people who were addmitted\n",
    "ax.scatter(data[data[\"Admission\"] == 1][\"Exam1\"], data[data[\"Admission\"] == 1][\"Exam2\"], \n",
    "           c='k', marker='+', label='Admitted')\n",
    "\n",
    "#Now the Non-Admitted Folks\n",
    "ax.scatter(data[data[\"Admission\"] == 0][\"Exam1\"], data[data[\"Admission\"] == 0][\"Exam2\"],\n",
    "          c='y', marker='o', label=\"Non Admitted\")\n",
    "\n",
    "#We need to draw the seperating line between Admitted and Non-Admitted\n",
    "ax.plot(x_p, y_p, c='orange', label='Decision Boundary')\n",
    "\n",
    "ax.legend(frameon = True, fontsize=\"large\", facecolor = \"White\", framealpha = 0.7)\n",
    "ax.set_xlabel('Exam 1 Score')\n",
    "ax.set_ylabel('Exam 2 Score');"
   ]
  },
  {
   "cell_type": "markdown",
   "metadata": {},
   "source": [
    "Let's check the accuracy rate of our prediction function. We can count the misclassified items from the graph, but why should we do it if we can write a function to do it for us:"
   ]
  },
  {
   "cell_type": "code",
   "execution_count": 398,
   "metadata": {},
   "outputs": [
    {
     "data": {
      "text/plain": [
       "0.89000000000000001"
      ]
     },
     "execution_count": 398,
     "metadata": {},
     "output_type": "execute_result"
    }
   ],
   "source": [
    "def prediction_function(theta, X):\n",
    "    return h(theta, X) >= 0.5\n",
    "\n",
    "total_corrects = np.sum((y.flatten() == prediction_function(theta, X)))\n",
    "total_dpoints = X.shape[0]\n",
    "\n",
    "accuracy_rate = total_corrects/total_dpoints\n",
    "accuracy_rate"
   ]
  },
  {
   "cell_type": "markdown",
   "metadata": {},
   "source": [
    "We have 89% accuracy rate. Not bad."
   ]
  }
 ],
 "metadata": {
  "kernelspec": {
   "display_name": "Python [conda root]",
   "language": "python",
   "name": "conda-root-py"
  },
  "language_info": {
   "codemirror_mode": {
    "name": "ipython",
    "version": 3
   },
   "file_extension": ".py",
   "mimetype": "text/x-python",
   "name": "python",
   "nbconvert_exporter": "python",
   "pygments_lexer": "ipython3",
   "version": "3.5.4"
  }
 },
 "nbformat": 4,
 "nbformat_minor": 2
}
